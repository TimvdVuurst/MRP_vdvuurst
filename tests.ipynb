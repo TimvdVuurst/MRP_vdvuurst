{
 "cells": [
  {
   "cell_type": "code",
   "execution_count": 1,
   "id": "da827874",
   "metadata": {},
   "outputs": [],
   "source": [
    "import numpy as np\n",
    "import h5py\n",
    "\n"
   ]
  },
  {
   "cell_type": "code",
   "execution_count": 7,
   "id": "dfd55464",
   "metadata": {},
   "outputs": [],
   "source": [
    "path_hydro= \"/net/hypernova/data2/FLAMINGO/L1000N1800/HYDRO_FIDUCIAL/SOAP-HBT/halo_properties_0077.hdf5\"\n",
    "\n",
    "with h5py.File(path_hydro, \"r\") as handle:\n",
    "    # TotalMass = handle[\"ExclusiveSphere/100kpc/TotalMass\"][...]\n",
    "    # StellarMass = handle[\"ExclusiveSphere/100kpc/StellarMass\"][:] ## NOT USED IN SOWMYA's CODE\n",
    "    # COMstellarvelocity = handle[\"ExclusiveSphere/100kpc/StellarCentreOfMassVelocity\"][:] ## NOT USED IN SOWMYA's CODE\n",
    "    # COMvelocity = handle[\"ExclusiveSphere/100kpc/CentreOfMassVelocity\"][:]\n",
    "    # Trackid = handle[\"InputHalos/HBTplus/TrackId\"][:]\n",
    "    # HOSTFOFID = handle[\"InputHalos/HBTplus/HostFOFId\"][:]\n",
    "    # HaloCatalogueIndex = handle[\"InputHalos/HaloCatalogueIndex\"][:]\n",
    "    # HOSTHALOINDEX = handle[\"SOAP/HostHaloIndex\"][:]\n",
    "    # FOFMass = handle[\"InputHalos/FOF/Masses\"][:]\n",
    "    # NoofBoundParticles = handle[\"InputHalos/NumberOfBoundParticles\"][:]\n",
    "    # NoofDMParticles = handle[\"ExclusiveSphere/100kpc/NumberOfDarkMatterParticles\"][:]\n",
    "    COM = handle[\"ExclusiveSphere/100kpc/CentreOfMass\"][...]\n",
    "    IsCentral = handle[\"InputHalos/IsCentral\"][:]\n"
   ]
  },
  {
   "cell_type": "code",
   "execution_count": 11,
   "id": "9467f714",
   "metadata": {},
   "outputs": [
    {
     "data": {
      "text/plain": [
       "'14_5'"
      ]
     },
     "execution_count": 11,
     "metadata": {},
     "output_type": "execute_result"
    }
   ],
   "source": [
    "str(14.5).replace('.','_')"
   ]
  },
  {
   "cell_type": "code",
   "execution_count": null,
   "id": "439aad08",
   "metadata": {},
   "outputs": [
    {
     "ename": "IndexError",
     "evalue": "Index (101) out of range for (0-99)",
     "output_type": "error",
     "traceback": [
      "\u001b[31m---------------------------------------------------------------------------\u001b[39m",
      "\u001b[31mIndexError\u001b[39m                                Traceback (most recent call last)",
      "\u001b[36mCell\u001b[39m\u001b[36m \u001b[39m\u001b[32mIn[30]\u001b[39m\u001b[32m, line 4\u001b[39m\n\u001b[32m      2\u001b[39m     arr = np.arange(\u001b[32m100\u001b[39m)\n\u001b[32m      3\u001b[39m     dset = f.create_dataset(\u001b[33m\"\u001b[39m\u001b[33minit\u001b[39m\u001b[33m\"\u001b[39m,(\u001b[32m100\u001b[39m,), dtype=np.uint32)\n\u001b[32m----> \u001b[39m\u001b[32m4\u001b[39m     \u001b[43mdset\u001b[49m\u001b[43m[\u001b[49m\u001b[32;43m101\u001b[39;49m\u001b[43m]\u001b[49m = \u001b[32m999999\u001b[39m\n\u001b[32m      6\u001b[39m \u001b[38;5;28;01mwith\u001b[39;00m h5py.File(\u001b[33m'\u001b[39m\u001b[33mtest.h5\u001b[39m\u001b[33m'\u001b[39m,\u001b[33m'\u001b[39m\u001b[33mr\u001b[39m\u001b[33m'\u001b[39m) \u001b[38;5;28;01mas\u001b[39;00m f:\n\u001b[32m      7\u001b[39m     data = f[\u001b[33m'\u001b[39m\u001b[33minit\u001b[39m\u001b[33m'\u001b[39m][:]\n",
      "\u001b[36mFile \u001b[39m\u001b[32mh5py/_objects.pyx:56\u001b[39m, in \u001b[36mh5py._objects.with_phil.wrapper\u001b[39m\u001b[34m()\u001b[39m\n",
      "\u001b[36mFile \u001b[39m\u001b[32mh5py/_objects.pyx:57\u001b[39m, in \u001b[36mh5py._objects.with_phil.wrapper\u001b[39m\u001b[34m()\u001b[39m\n",
      "\u001b[36mFile \u001b[39m\u001b[32m/disks/cosmodm/vdvuurst/RSDenv/lib64/python3.12/site-packages/h5py/_hl/dataset.py:1027\u001b[39m, in \u001b[36mDataset.__setitem__\u001b[39m\u001b[34m(self, args, val)\u001b[39m\n\u001b[32m   1024\u001b[39m     mtype = \u001b[38;5;28;01mNone\u001b[39;00m\n\u001b[32m   1026\u001b[39m \u001b[38;5;66;03m# Perform the dataspace selection\u001b[39;00m\n\u001b[32m-> \u001b[39m\u001b[32m1027\u001b[39m selection = \u001b[43msel\u001b[49m\u001b[43m.\u001b[49m\u001b[43mselect\u001b[49m\u001b[43m(\u001b[49m\u001b[38;5;28;43mself\u001b[39;49m\u001b[43m.\u001b[49m\u001b[43mshape\u001b[49m\u001b[43m,\u001b[49m\u001b[43m \u001b[49m\u001b[43margs\u001b[49m\u001b[43m,\u001b[49m\u001b[43m \u001b[49m\u001b[43mdataset\u001b[49m\u001b[43m=\u001b[49m\u001b[38;5;28;43mself\u001b[39;49m\u001b[43m)\u001b[49m\n\u001b[32m   1029\u001b[39m \u001b[38;5;28;01mif\u001b[39;00m selection.nselect == \u001b[32m0\u001b[39m:\n\u001b[32m   1030\u001b[39m     \u001b[38;5;28;01mreturn\u001b[39;00m\n",
      "\u001b[36mFile \u001b[39m\u001b[32m/disks/cosmodm/vdvuurst/RSDenv/lib64/python3.12/site-packages/h5py/_hl/selections.py:82\u001b[39m, in \u001b[36mselect\u001b[39m\u001b[34m(shape, args, dataset)\u001b[39m\n\u001b[32m     79\u001b[39m     space = h5s.create_simple(shape)\n\u001b[32m     80\u001b[39m     selector = _selector.Selector(space)\n\u001b[32m---> \u001b[39m\u001b[32m82\u001b[39m \u001b[38;5;28;01mreturn\u001b[39;00m \u001b[43mselector\u001b[49m\u001b[43m.\u001b[49m\u001b[43mmake_selection\u001b[49m\u001b[43m(\u001b[49m\u001b[43margs\u001b[49m\u001b[43m)\u001b[49m\n",
      "\u001b[36mFile \u001b[39m\u001b[32mh5py/_selector.pyx:282\u001b[39m, in \u001b[36mh5py._selector.Selector.make_selection\u001b[39m\u001b[34m()\u001b[39m\n",
      "\u001b[36mFile \u001b[39m\u001b[32mh5py/_selector.pyx:151\u001b[39m, in \u001b[36mh5py._selector.Selector.apply_args\u001b[39m\u001b[34m()\u001b[39m\n",
      "\u001b[31mIndexError\u001b[39m: Index (101) out of range for (0-99)"
     ]
    }
   ],
   "source": [
    "with h5py.File('test.h5','w') as f:\n",
    "    arr = np.arange(100)\n",
    "    dset = f.create_dataset(\"init\",(100,), dtype=np.uint32)\n",
    "\n",
    "with h5py.File('test.h5','r') as f:\n",
    "    data = f['init'][:]\n",
    "\n",
    "print(data)\n"
   ]
  }
 ],
 "metadata": {
  "kernelspec": {
   "display_name": "RSDenv",
   "language": "python",
   "name": "python3"
  },
  "language_info": {
   "codemirror_mode": {
    "name": "ipython",
    "version": 3
   },
   "file_extension": ".py",
   "mimetype": "text/x-python",
   "name": "python",
   "nbconvert_exporter": "python",
   "pygments_lexer": "ipython3",
   "version": "3.12.9"
  }
 },
 "nbformat": 4,
 "nbformat_minor": 5
}
