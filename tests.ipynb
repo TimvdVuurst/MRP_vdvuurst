{
 "cells": [
  {
   "cell_type": "code",
   "execution_count": 1,
   "id": "da827874",
   "metadata": {},
   "outputs": [],
   "source": [
    "import numpy as np\n",
    "import h5py\n",
    "import os"
   ]
  },
  {
   "cell_type": "code",
   "execution_count": 23,
   "id": "f9fe433c",
   "metadata": {},
   "outputs": [
    {
     "name": "stdout",
     "output_type": "stream",
     "text": [
      "0\n",
      "10\n",
      "20\n",
      "30\n",
      "40\n",
      "50\n",
      "60\n",
      "70\n",
      "80\n",
      "90\n"
     ]
    },
    {
     "data": {
      "text/plain": [
       "array([7., 7., 7., 7., 7., 7., 7., 7., 7., 7., 2., 2., 2., 2., 2., 2., 2.,\n",
       "       2., 2., 2., 5., 5., 5., 5., 5., 5., 5., 5., 5., 5., 2., 2., 2., 2.,\n",
       "       2., 2., 2., 2., 2., 2., 2., 2., 2., 2., 2., 2., 2., 2., 2., 2., 3.,\n",
       "       3., 3., 3., 3., 3., 3., 3., 3., 3., 4., 4., 4., 4., 4., 4., 4., 4.,\n",
       "       4., 4., 5., 5., 5., 5., 5., 5., 5., 5., 5., 5., 3., 3., 3., 3., 3.,\n",
       "       3., 3., 3., 3., 3., 3., 3., 3., 3., 3., 3., 3., 3., 3., 3.],\n",
       "      dtype=float32)"
      ]
     },
     "execution_count": 23,
     "metadata": {},
     "output_type": "execute_result"
    }
   ],
   "source": [
    "filename = '/disks/cosmodm/vdvuurst/data/TEST.h5'\n",
    "with h5py.File(filename, \"w\") as f:\n",
    "    dset_test = f.create_dataset(\"radial_distances\", (100,), dtype=np.float32, compression=\"gzip\")\n",
    "\n",
    "    counter = 0\n",
    "    for i in range(10):\n",
    "        print(counter)\n",
    "        dset_test[counter:counter+10] = np.random.randint(10)\n",
    "        counter += 10\n",
    "    \n",
    "    f.flush()\n",
    "\n",
    "with h5py.File(filename,'r') as f:\n",
    "    test = f['radial_distances'][:]\n",
    "\n",
    "test\n"
   ]
  },
  {
   "cell_type": "code",
   "execution_count": 44,
   "id": "b2f3c30f",
   "metadata": {},
   "outputs": [],
   "source": [
    "from TWOHALO import _make_mass_mask\n",
    "\n",
    "with h5py.File('/net/hypernova/data2/FLAMINGO/L1000N1800/HYDRO_FIDUCIAL/SOAP-HBT/halo_properties_0077.hdf5', \"r\") as handle:\n",
    "    FOFMass = handle[\"InputHalos/FOF/Masses\"][:]\n",
    "    HaloCatalogueIndex = handle[\"InputHalos/HaloCatalogueIndex\"][:]\n",
    "\n",
    "prim_mask = _make_mass_mask(FOFMass, 10**3.5, 10**4)\n",
    "sec_mask = _make_mass_mask(FOFMass, 10**3,10**4.5)\n",
    "\n",
    "def mask(x,i):\n",
    "    return x != i\n",
    "\n",
    "prim_ID = HaloCatalogueIndex[prim_mask]\n",
    "sec_ID = HaloCatalogueIndex[sec_mask][:,np.newaxis]\n",
    "\n"
   ]
  },
  {
   "cell_type": "code",
   "execution_count": 55,
   "id": "6a0cda14",
   "metadata": {},
   "outputs": [
    {
     "data": {
      "text/plain": [
       "2"
      ]
     },
     "execution_count": 55,
     "metadata": {},
     "output_type": "execute_result"
    }
   ],
   "source": [
    "x = 1 if False else 2\n",
    "x"
   ]
  },
  {
   "cell_type": "code",
   "execution_count": 52,
   "id": "3121a635",
   "metadata": {},
   "outputs": [
    {
     "data": {
      "text/plain": [
       "True"
      ]
     },
     "execution_count": 52,
     "metadata": {},
     "output_type": "execute_result"
    }
   ],
   "source": [
    "prim = (13.5,14)\n",
    "sec = (13,15)\n",
    "\n",
    "prim_is_subset = (sec[0] <= prim[0]) & (sec[1] >= prim[1]) \n",
    "prim_is_subset"
   ]
  },
  {
   "cell_type": "code",
   "execution_count": 48,
   "id": "1d4c66f2",
   "metadata": {},
   "outputs": [
    {
     "name": "stdout",
     "output_type": "stream",
     "text": [
      "5.84 s ± 174 ms per loop (mean ± std. dev. of 7 runs, 1 loop each)\n"
     ]
    }
   ],
   "source": [
    "%%timeit \n",
    "\n",
    "self_selection_masks = np.apply_along_axis(mask, 1, sec_ID, prim_ID)"
   ]
  },
  {
   "cell_type": "code",
   "execution_count": 47,
   "id": "dbd24154",
   "metadata": {},
   "outputs": [
    {
     "name": "stdout",
     "output_type": "stream",
     "text": [
      "3.28 s ± 173 ms per loop (mean ± std. dev. of 7 runs, 1 loop each)\n"
     ]
    }
   ],
   "source": [
    "%%timeit\n",
    "for prim_id in prim_ID:\n",
    "    self_selection_mask = mask(sec_ID, prim_id)\n"
   ]
  },
  {
   "cell_type": "code",
   "execution_count": 41,
   "id": "22bdfb93",
   "metadata": {},
   "outputs": [
    {
     "name": "stdout",
     "output_type": "stream",
     "text": [
      "[[0]\n",
      " [1]\n",
      " [2]\n",
      " [3]\n",
      " [4]\n",
      " [5]\n",
      " [6]\n",
      " [7]\n",
      " [8]\n",
      " [9]]\n"
     ]
    },
    {
     "data": {
      "text/plain": [
       "array([[False,  True,  True,  True,  True,  True,  True,  True,  True,\n",
       "         True],\n",
       "       [ True, False,  True,  True,  True,  True,  True,  True,  True,\n",
       "         True],\n",
       "       [ True,  True, False,  True,  True,  True,  True,  True,  True,\n",
       "         True],\n",
       "       [ True,  True,  True, False,  True,  True,  True,  True,  True,\n",
       "         True],\n",
       "       [ True,  True,  True,  True, False,  True,  True,  True,  True,\n",
       "         True],\n",
       "       [ True,  True,  True,  True,  True, False,  True,  True,  True,\n",
       "         True],\n",
       "       [ True,  True,  True,  True,  True,  True, False,  True,  True,\n",
       "         True],\n",
       "       [ True,  True,  True,  True,  True,  True,  True, False,  True,\n",
       "         True],\n",
       "       [ True,  True,  True,  True,  True,  True,  True,  True, False,\n",
       "         True],\n",
       "       [ True,  True,  True,  True,  True,  True,  True,  True,  True,\n",
       "        False]])"
      ]
     },
     "execution_count": 41,
     "metadata": {},
     "output_type": "execute_result"
    }
   ],
   "source": [
    "# test = np.array([np.arange(10) for _ in range(10)]).T\n",
    "test = np.arange(10)[:,np.newaxis]\n",
    "print(test)\n",
    "\n",
    "def mask(x,i):\n",
    "    return x != i\n",
    "\n",
    "np.apply_along_axis(mask, 1, test, np.arange(10))"
   ]
  },
  {
   "cell_type": "code",
   "execution_count": 13,
   "id": "f16a5702",
   "metadata": {},
   "outputs": [
    {
     "name": "stdout",
     "output_type": "stream",
     "text": [
      "[[ 0.57735027  0.57735027  0.57735027]\n",
      " [-0.57735027 -0.57735027 -0.57735027]\n",
      " [-0.57735027 -0.57735027 -0.57735027]]\n",
      "[5.38516481 5.47722558 6.164414  ]\n"
     ]
    },
    {
     "data": {
      "text/plain": [
       "array([ 5.19615242, -4.61880215,  2.30940108])"
      ]
     },
     "execution_count": 13,
     "metadata": {},
     "output_type": "execute_result"
    }
   ],
   "source": [
    "test = [[1,1,1],[-1,-1,-1],[-1,-1,-1]]\n",
    "test1 = np.linalg.norm([[-1,1,1],[1,1,1],[-1,-1,-1]],axis=1)\n",
    "\n",
    "new = test / test1[:,np.newaxis]\n",
    "print(new)\n",
    "\n",
    "yeet = [[2,3,4],[5,1,2],[-5,-2,3]]\n",
    "print(np.linalg.norm(yeet,axis=1))\n",
    "np.einsum('ij,ij->i', yeet, new) "
   ]
  },
  {
   "cell_type": "code",
   "execution_count": 10,
   "id": "f8da3b06",
   "metadata": {},
   "outputs": [
    {
     "data": {
      "text/plain": [
       "'/data/TEST.hdf5'"
      ]
     },
     "execution_count": 10,
     "metadata": {},
     "output_type": "execute_result"
    }
   ],
   "source": [
    "os.path.join(os.getcwd(),'/data/TEST.hdf5')"
   ]
  },
  {
   "cell_type": "code",
   "execution_count": null,
   "id": "04c49edb",
   "metadata": {},
   "outputs": [],
   "source": []
  },
  {
   "cell_type": "code",
   "execution_count": 25,
   "id": "7ae7e2d9",
   "metadata": {},
   "outputs": [
    {
     "name": "stdout",
     "output_type": "stream",
     "text": [
      "[1 3]\n"
     ]
    }
   ],
   "source": [
    "names = ['foo', 'bar']\n",
    "formats = ['i4', 'i4']\n",
    "\n",
    "dtype = np.dtype({'names': names, 'formats': formats})\n",
    "\n",
    "data = np.array([(1, 2), (3, 4)], dtype=dtype)\n",
    "print(data['foo'])"
   ]
  },
  {
   "cell_type": "code",
   "execution_count": null,
   "id": "e9636a19",
   "metadata": {},
   "outputs": [
    {
     "data": {
      "text/plain": [
       "(np.int64(15580), np.int64(219))"
      ]
     },
     "execution_count": 155,
     "metadata": {},
     "output_type": "execute_result"
    }
   ],
   "source": [
    "with h5py.File('/net/hypernova/data2/FLAMINGO/L1000N1800/HYDRO_FIDUCIAL/SOAP-HBT/halo_properties_0077.hdf5', \"r\") as handle:\n",
    "    FOFMass = handle[\"InputHalos/FOF/Masses\"][:]\n",
    "    HaloCatalogueIndex = handle[\"InputHalos/HaloCatalogueIndex\"][:]\n",
    "    COM = handle[\"ExclusiveSphere/100kpc/CentreOfMass\"][:]\n",
    "\n",
    "mask1 = FOFMass > 1e4\n",
    "mask2 = FOFMass > 1e5\n",
    "\n",
    "mask1.sum(), mask2.sum()"
   ]
  },
  {
   "cell_type": "code",
   "execution_count": null,
   "id": "5b70669f",
   "metadata": {},
   "outputs": [
    {
     "data": {
      "text/plain": [
       "{np.int64(13),\n",
       " np.int64(477346),\n",
       " np.int64(477709),\n",
       " np.int64(748905),\n",
       " np.int64(749019),\n",
       " np.int64(749025),\n",
       " np.int64(1039297),\n",
       " np.int64(1285147),\n",
       " np.int64(1773646),\n",
       " np.int64(1813398),\n",
       " np.int64(1813561),\n",
       " np.int64(1813642),\n",
       " np.int64(2087362),\n",
       " np.int64(2343519),\n",
       " np.int64(2344154),\n",
       " np.int64(2344983),\n",
       " np.int64(2345152),\n",
       " np.int64(2609359),\n",
       " np.int64(2861583),\n",
       " np.int64(2861673),\n",
       " np.int64(3104514),\n",
       " np.int64(3104524),\n",
       " np.int64(3104534),\n",
       " np.int64(3591644),\n",
       " np.int64(3879298),\n",
       " np.int64(4075851),\n",
       " np.int64(4406072),\n",
       " np.int64(4406202),\n",
       " np.int64(4406527),\n",
       " np.int64(4674230),\n",
       " np.int64(4675235),\n",
       " np.int64(4882084),\n",
       " np.int64(4934616),\n",
       " np.int64(4934747),\n",
       " np.int64(4935461),\n",
       " np.int64(4935825),\n",
       " np.int64(4937503),\n",
       " np.int64(5103543),\n",
       " np.int64(5178227),\n",
       " np.int64(5412572),\n",
       " np.int64(5645606),\n",
       " np.int64(5645957),\n",
       " np.int64(5646080),\n",
       " np.int64(5647883),\n",
       " np.int64(5650942),\n",
       " np.int64(5862835),\n",
       " np.int64(5919397),\n",
       " np.int64(5937219),\n",
       " np.int64(6037009),\n",
       " np.int64(6151302),\n",
       " np.int64(6151423),\n",
       " np.int64(6394259),\n",
       " np.int64(6394270),\n",
       " np.int64(6394404),\n",
       " np.int64(6395767),\n",
       " np.int64(6397617),\n",
       " np.int64(6693965),\n",
       " np.int64(6928816),\n",
       " np.int64(7143531),\n",
       " np.int64(7334652),\n",
       " np.int64(7335334),\n",
       " np.int64(7572864),\n",
       " np.int64(7572907),\n",
       " np.int64(7574020),\n",
       " np.int64(7850595),\n",
       " np.int64(7850625),\n",
       " np.int64(7850915),\n",
       " np.int64(7854182),\n",
       " np.int64(8200181),\n",
       " np.int64(8384685),\n",
       " np.int64(8384939),\n",
       " np.int64(8390899),\n",
       " np.int64(8654065),\n",
       " np.int64(8654066),\n",
       " np.int64(8654131),\n",
       " np.int64(8656092),\n",
       " np.int64(8913851),\n",
       " np.int64(9188785),\n",
       " np.int64(9190074),\n",
       " np.int64(9472981),\n",
       " np.int64(9473424),\n",
       " np.int64(9913866),\n",
       " np.int64(10016972),\n",
       " np.int64(10255985),\n",
       " np.int64(10695304),\n",
       " np.int64(10696104),\n",
       " np.int64(10696681),\n",
       " np.int64(11227837),\n",
       " np.int64(11454080),\n",
       " np.int64(11456985),\n",
       " np.int64(11457557),\n",
       " np.int64(11720929),\n",
       " np.int64(11978396),\n",
       " np.int64(12237612),\n",
       " np.int64(12484741),\n",
       " np.int64(12484771),\n",
       " np.int64(12484780),\n",
       " np.int64(12484853),\n",
       " np.int64(12484855),\n",
       " np.int64(12488342),\n",
       " np.int64(12743233),\n",
       " np.int64(12989381),\n",
       " np.int64(12989798),\n",
       " np.int64(12990062),\n",
       " np.int64(12990495),\n",
       " np.int64(13271685),\n",
       " np.int64(13272308),\n",
       " np.int64(13272930),\n",
       " np.int64(13277431),\n",
       " np.int64(13507174),\n",
       " np.int64(13507627),\n",
       " np.int64(13728571),\n",
       " np.int64(13732535),\n",
       " np.int64(13735035),\n",
       " np.int64(13989256),\n",
       " np.int64(14697427),\n",
       " np.int64(14697829),\n",
       " np.int64(14698733),\n",
       " np.int64(14946882),\n",
       " np.int64(15164422),\n",
       " np.int64(15652727),\n",
       " np.int64(15653183),\n",
       " np.int64(16370281),\n",
       " np.int64(16397513),\n",
       " np.int64(16678821),\n",
       " np.int64(16945309),\n",
       " np.int64(16945372),\n",
       " np.int64(17198254),\n",
       " np.int64(17204609),\n",
       " np.int64(17719851),\n",
       " np.int64(17719862),\n",
       " np.int64(17720502),\n",
       " np.int64(17721917),\n",
       " np.int64(17723224),\n",
       " np.int64(18005180),\n",
       " np.int64(18007063),\n",
       " np.int64(18008398),\n",
       " np.int64(18289891),\n",
       " np.int64(18499209),\n",
       " np.int64(18693220),\n",
       " np.int64(18693221),\n",
       " np.int64(18693350),\n",
       " np.int64(18694051),\n",
       " np.int64(19415920),\n",
       " np.int64(19901724),\n",
       " np.int64(20270809),\n",
       " np.int64(20350462),\n",
       " np.int64(20350639),\n",
       " np.int64(20565032),\n",
       " np.int64(20565085),\n",
       " np.int64(20565131),\n",
       " np.int64(20570471),\n",
       " np.int64(20824282),\n",
       " np.int64(20826619),\n",
       " np.int64(21063185),\n",
       " np.int64(21064199),\n",
       " np.int64(21335013),\n",
       " np.int64(21335884),\n",
       " np.int64(21804019),\n",
       " np.int64(22054576),\n",
       " np.int64(22322968),\n",
       " np.int64(22323366),\n",
       " np.int64(22326003),\n",
       " np.int64(22626807),\n",
       " np.int64(22626979),\n",
       " np.int64(23047346),\n",
       " np.int64(23265042),\n",
       " np.int64(23265960),\n",
       " np.int64(23266849),\n",
       " np.int64(23526470),\n",
       " np.int64(23526495),\n",
       " np.int64(23536969),\n",
       " np.int64(23819191),\n",
       " np.int64(23819338),\n",
       " np.int64(24060565),\n",
       " np.int64(24106451),\n",
       " np.int64(24202830),\n",
       " np.int64(24358948),\n",
       " np.int64(24359354),\n",
       " np.int64(24656337),\n",
       " np.int64(24799266),\n",
       " np.int64(24913439),\n",
       " np.int64(25846717),\n",
       " np.int64(25853700),\n",
       " np.int64(26146079),\n",
       " np.int64(26423400),\n",
       " np.int64(26423554),\n",
       " np.int64(26423586),\n",
       " np.int64(27185944),\n",
       " np.int64(27186006),\n",
       " np.int64(27188086),\n",
       " np.int64(27457790),\n",
       " np.int64(27457792),\n",
       " np.int64(27458086),\n",
       " np.int64(27458450),\n",
       " np.int64(27470659),\n",
       " np.int64(27722871),\n",
       " np.int64(28217295),\n",
       " np.int64(28740094),\n",
       " np.int64(28744165),\n",
       " np.int64(28963517),\n",
       " np.int64(29200603),\n",
       " np.int64(29200723),\n",
       " np.int64(29464465),\n",
       " np.int64(29711739),\n",
       " np.int64(29712930),\n",
       " np.int64(29949448),\n",
       " np.int64(29949529),\n",
       " np.int64(29950512),\n",
       " np.int64(30664938),\n",
       " np.int64(30905587),\n",
       " np.int64(30905646),\n",
       " np.int64(31174559),\n",
       " np.int64(31175092),\n",
       " np.int64(31648273),\n",
       " np.int64(31648473),\n",
       " np.int64(31650637),\n",
       " np.int64(31919948),\n",
       " np.int64(32011591)}"
      ]
     },
     "execution_count": 173,
     "metadata": {},
     "output_type": "execute_result"
    }
   ],
   "source": [
    "primary_IDS = HaloCatalogueIndex[mask1]\n",
    "secondary_IDS = HaloCatalogueIndex[mask2]\n",
    "\n",
    "\n",
    "# np.meshgrid(primary_IDS, secondary_IDS)\n",
    "from itertools import combinations\n"
   ]
  },
  {
   "cell_type": "code",
   "execution_count": null,
   "id": "e8eee7c7",
   "metadata": {},
   "outputs": [
    {
     "name": "stdout",
     "output_type": "stream",
     "text": [
      "713 μs ± 4.3 μs per loop (mean ± std. dev. of 7 runs, 1,000 loops each)\n"
     ]
    }
   ],
   "source": [
    "%%timeit\n",
    "test = np.ones((1000))\n",
    "new = np.zeros((1000,500))\n",
    "for i in range(500):\n",
    "    new[:,i] = test\n",
    "\n",
    "# prims = np.arange(0,1,0.1)\n",
    "# new - prims[:,np.newaxis]"
   ]
  },
  {
   "cell_type": "code",
   "execution_count": null,
   "id": "e62c0fc3",
   "metadata": {},
   "outputs": [
    {
     "data": {
      "text/plain": [
       "(5, 10)"
      ]
     },
     "execution_count": 146,
     "metadata": {},
     "output_type": "execute_result"
    }
   ],
   "source": [
    "# %%timeit\n",
    "test = np.ones((10,3))\n",
    "# data = test[np.newaxis,:] - np.zeros(5)[:,np.newaxis,:]\n",
    "# data\n",
    "comp = (test[np.newaxis,:] - np.zeros((5,3))[:,np.newaxis,:])\n",
    "\n",
    "np.linalg.norm(comp,axis=2)"
   ]
  },
  {
   "cell_type": "code",
   "execution_count": 152,
   "id": "e38c742d",
   "metadata": {},
   "outputs": [
    {
     "data": {
      "text/plain": [
       "array([[0., 1., 1., 1., 1., 1., 1., 1., 1., 1.],\n",
       "       [1., 0., 1., 1., 1., 1., 1., 1., 1., 1.],\n",
       "       [1., 1., 0., 1., 1., 1., 1., 1., 1., 1.],\n",
       "       [1., 1., 1., 0., 1., 1., 1., 1., 1., 1.],\n",
       "       [1., 1., 1., 1., 0., 1., 1., 1., 1., 1.],\n",
       "       [1., 1., 1., 1., 1., 0., 1., 1., 1., 1.],\n",
       "       [1., 1., 1., 1., 1., 1., 0., 1., 1., 1.],\n",
       "       [1., 1., 1., 1., 1., 1., 1., 0., 1., 1.],\n",
       "       [1., 1., 1., 1., 1., 1., 1., 1., 0., 1.],\n",
       "       [1., 1., 1., 1., 1., 1., 1., 1., 1., 0.]])"
      ]
     },
     "execution_count": 152,
     "metadata": {},
     "output_type": "execute_result"
    }
   ],
   "source": [
    "test = np.ones((10,10))\n",
    "masks = np.zeros((10,10), dtype=bool)\n",
    "masks += np.diag(np.ones(10,dtype=bool))\n",
    "test[masks] = 0\n",
    "test"
   ]
  },
  {
   "cell_type": "code",
   "execution_count": null,
   "id": "8820233d",
   "metadata": {},
   "outputs": [
    {
     "name": "stdout",
     "output_type": "stream",
     "text": [
      "841 μs ± 3.51 μs per loop (mean ± std. dev. of 7 runs, 1,000 loops each)\n"
     ]
    }
   ],
   "source": [
    "\n",
    "%%timeit\n",
    "test = np.ones(1000)\n",
    "data = np.column_stack([test for _ in range(500)])\n"
   ]
  },
  {
   "cell_type": "code",
   "execution_count": 16,
   "id": "1c51a364",
   "metadata": {},
   "outputs": [
    {
     "name": "stdout",
     "output_type": "stream",
     "text": [
      "[ 0  1  2  3  4  5  6  7  8  9 10 11 12 13 14 15 16 17 18 19 20 21 22 23\n",
      " 24 25 26 27 28 29 30 31 32 33 34 35 36 37 38 39 40 41 42 43 44 45 46 47\n",
      " 48 49 50 51 52 53 54 55 56 57 58 59 60 61 62 63 64 65 66 67 68 69 70 71\n",
      " 72 73 74 75 76 77 78 79 80 81 82 83 84 85 86 87 88 89 90 91 92 93 94 95\n",
      " 96 97 98 99]\n",
      "[99. 98. 97. 96. 95. 94. 93. 92. 91. 90. 89. 88. 87. 86. 85. 84. 83. 82.\n",
      " 81. 80. 79. 78. 77. 76. 75. 74. 73. 72. 71. 70. 69. 68. 67. 66. 65. 64.\n",
      " 63. 62. 61. 60. 59. 58. 57. 56. 55. 54. 53. 52. 51. 50. 49. 48. 47. 46.\n",
      " 45. 44. 43. 42. 41. 40. 39. 38. 37. 36. 35. 34. 33. 32. 31. 30. 29. 28.\n",
      " 27. 26. 25. 24. 23. 22. 21. 20. 19. 18. 17. 16. 15. 14. 13. 12. 11. 10.\n",
      "  9.  8.  7.  6.  5.  4.  3.  2.  1.]\n"
     ]
    }
   ],
   "source": [
    "data = np.arange(100)\n",
    "print(data)\n",
    "path = '/disks/cosmodm/vdvuurst/data'\n",
    "with h5py.File(os.path.join(path,'TEST.hdf5'), \"w\") as f:\n",
    "    dset_radial = f.create_dataset(\"radial_distances\", (100,99), dtype=np.float32, compression=\"gzip\")\n",
    "\n",
    "    for i in range(100):\n",
    "        dset_radial[i,:] = i - data[data != i]\n",
    "    \n",
    "    f.flush()\n",
    "\n",
    "\n",
    "with h5py.File(os.path.join(path,'TEST.hdf5'), \"r\") as f:\n",
    "    dset_radial = f[\"radial_distances\"][:]\n",
    "    print(dset_radial[-1,:])"
   ]
  }
 ],
 "metadata": {
  "kernelspec": {
   "display_name": "RSDenv",
   "language": "python",
   "name": "python3"
  },
  "language_info": {
   "codemirror_mode": {
    "name": "ipython",
    "version": 3
   },
   "file_extension": ".py",
   "mimetype": "text/x-python",
   "name": "python",
   "nbconvert_exporter": "python",
   "pygments_lexer": "ipython3",
   "version": "3.12.9"
  }
 },
 "nbformat": 4,
 "nbformat_minor": 5
}
