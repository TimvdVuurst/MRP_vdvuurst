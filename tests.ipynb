{
 "cells": [
  {
   "cell_type": "code",
   "execution_count": 2,
   "id": "da827874",
   "metadata": {},
   "outputs": [],
   "source": [
    "import numpy as np\n",
    "import h5py\n",
    "\n"
   ]
  },
  {
   "cell_type": "code",
   "execution_count": 7,
   "id": "dfd55464",
   "metadata": {},
   "outputs": [],
   "source": [
    "path_hydro= \"/net/hypernova/data2/FLAMINGO/L1000N1800/HYDRO_FIDUCIAL/SOAP-HBT/halo_properties_0077.hdf5\"\n",
    "\n",
    "with h5py.File(path_hydro, \"r\") as handle:\n",
    "    # TotalMass = handle[\"ExclusiveSphere/100kpc/TotalMass\"][...]\n",
    "    # StellarMass = handle[\"ExclusiveSphere/100kpc/StellarMass\"][:] ## NOT USED IN SOWMYA's CODE\n",
    "    # COMstellarvelocity = handle[\"ExclusiveSphere/100kpc/StellarCentreOfMassVelocity\"][:] ## NOT USED IN SOWMYA's CODE\n",
    "    # COMvelocity = handle[\"ExclusiveSphere/100kpc/CentreOfMassVelocity\"][:]\n",
    "    # Trackid = handle[\"InputHalos/HBTplus/TrackId\"][:]\n",
    "    # HOSTFOFID = handle[\"InputHalos/HBTplus/HostFOFId\"][:]\n",
    "    # HaloCatalogueIndex = handle[\"InputHalos/HaloCatalogueIndex\"][:]\n",
    "    # HOSTHALOINDEX = handle[\"SOAP/HostHaloIndex\"][:]\n",
    "    # FOFMass = handle[\"InputHalos/FOF/Masses\"][:]\n",
    "    # NoofBoundParticles = handle[\"InputHalos/NumberOfBoundParticles\"][:]\n",
    "    # NoofDMParticles = handle[\"ExclusiveSphere/100kpc/NumberOfDarkMatterParticles\"][:]\n",
    "    COM = handle[\"ExclusiveSphere/100kpc/CentreOfMass\"][...]\n",
    "    IsCentral = handle[\"InputHalos/IsCentral\"][:]\n"
   ]
  },
  {
   "cell_type": "code",
   "execution_count": 11,
   "id": "9467f714",
   "metadata": {},
   "outputs": [
    {
     "data": {
      "text/plain": [
       "'14_5'"
      ]
     },
     "execution_count": 11,
     "metadata": {},
     "output_type": "execute_result"
    }
   ],
   "source": [
    "str(14.5).replace('.','_')"
   ]
  },
  {
   "cell_type": "code",
   "execution_count": null,
   "id": "439aad08",
   "metadata": {},
   "outputs": [
    {
     "ename": "AttributeError",
     "evalue": "'tuple' object has no attribute 'shape'",
     "output_type": "error",
     "traceback": [
      "\u001b[31m---------------------------------------------------------------------------\u001b[39m",
      "\u001b[31mAttributeError\u001b[39m                            Traceback (most recent call last)",
      "\u001b[36mCell\u001b[39m\u001b[36m \u001b[39m\u001b[32mIn[3]\u001b[39m\u001b[32m, line 4\u001b[39m\n\u001b[32m      1\u001b[39m \u001b[38;5;28;01mwith\u001b[39;00m h5py.File(\u001b[33m'\u001b[39m\u001b[33m/disks/cosmodm/vdvuurst/data/velocity_data_M14_14_5_trial_largersecondary_newquantity.h5\u001b[39m\u001b[33m'\u001b[39m,\u001b[33m'\u001b[39m\u001b[33mr\u001b[39m\u001b[33m'\u001b[39m) \u001b[38;5;28;01mas\u001b[39;00m f:\n\u001b[32m      2\u001b[39m     data = f[\u001b[33m'\u001b[39m\u001b[33mmasses\u001b[39m\u001b[33m'\u001b[39m][:]\n\u001b[32m----> \u001b[39m\u001b[32m4\u001b[39m \u001b[38;5;28mprint\u001b[39m(\u001b[43mnp\u001b[49m\u001b[43m.\u001b[49m\u001b[43mnonzero\u001b[49m\u001b[43m(\u001b[49m\u001b[43mdata\u001b[49m\u001b[43m)\u001b[49m\u001b[43m.\u001b[49m\u001b[43mshape\u001b[49m)\n",
      "\u001b[31mAttributeError\u001b[39m: 'tuple' object has no attribute 'shape'"
     ]
    }
   ],
   "source": [
    "\n",
    "with h5py.File('/disks/cosmodm/vdvuurst/data/velocity_data_M14_14_5_trial_largersecondary_newquantity.h5','r') as f:\n",
    "    data = f['masses'][:]\n",
    "\n"
   ]
  },
  {
   "cell_type": "code",
   "execution_count": 15,
   "id": "891e3caa",
   "metadata": {},
   "outputs": [
    {
     "data": {
      "text/plain": [
       "47055"
      ]
     },
     "execution_count": 15,
     "metadata": {},
     "output_type": "execute_result"
    }
   ],
   "source": [
    "data.shape[0] - 767610320"
   ]
  }
 ],
 "metadata": {
  "kernelspec": {
   "display_name": "RSDenv",
   "language": "python",
   "name": "python3"
  },
  "language_info": {
   "codemirror_mode": {
    "name": "ipython",
    "version": 3
   },
   "file_extension": ".py",
   "mimetype": "text/x-python",
   "name": "python",
   "nbconvert_exporter": "python",
   "pygments_lexer": "ipython3",
   "version": "3.12.9"
  }
 },
 "nbformat": 4,
 "nbformat_minor": 5
}
